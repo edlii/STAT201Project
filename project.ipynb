{
 "cells": [
  {
   "cell_type": "markdown",
   "id": "635ecf44-ffbf-4fee-ad61-7189aae2b9af",
   "metadata": {},
   "source": [
    "# Group Project 22\n",
    "\n",
    "*Group Members: Angelique Clara Hanzell, Jack Parkinson, Edward Liang, Vamsi Nadella*"
   ]
  },
  {
   "cell_type": "markdown",
   "id": "fb6cb167-a216-4f77-ae9c-b157f128efd7",
   "metadata": {},
   "source": [
    "# Determining if Fatal US Police Shooting Decisions are Racially Motivated for African Americans"
   ]
  },
  {
   "cell_type": "markdown",
   "id": "69ed7f7a-e8ae-4987-bb08-f2f3945a1520",
   "metadata": {},
   "source": [
    "## Question\n",
    "\n",
    "Does race and threat level determine the severity of force used by US Law Enforcement?"
   ]
  },
  {
   "cell_type": "markdown",
   "id": "686034a8-2d08-4e12-b6e9-df03a5557464",
   "metadata": {},
   "source": [
    "## Introduction\n",
    "\n",
    "Police use of deadly force is an ongoing controversial topic that has a recurring theme of racial bias. Many reports have highlighted a racial disparity in police shootings, including a report by Yale University that found  that Black Americans from  2015-2020  were killed by police 2.6 times more than white people (Belli, 2021). These studies did not factor in threat level. Therefore this begs the question, can the disproportionate killing of black Americans be explained through a higher rate of threat level of police shooting victims?\n",
    "\n",
    "In our project, we will use the US Police Shootings dataset that is attained through GitHub. This dataset gives us insight into every fatal shooting that has happened in the United States by a police officer. Our group is interested in the relationship between police shootings ( `manner_of_death`) in relation to race (`race`) and level of threat, (`threat_level`). Analyzing these categories may give us insights into how race and level of threat could be associated with the manner of death of the person. Column names used for data analysis with their descriptions: \n",
    "\n",
    "    \n",
    "- `manner_of_death`: `shot` and `shot and Tasered`\n",
    "- `race`:\n",
    "    - `W`: White\n",
    "    - `B`: Black\n",
    "- `threat_level`: \n",
    "    - `attack`: direct and immediate threat to life including armed or attacking police officers\n",
    "    - `other`: all remaining cases\n"
   ]
  },
  {
   "cell_type": "markdown",
   "id": "7d8d768f-c860-482f-b94d-846a057b78b3",
   "metadata": {},
   "source": [
    "## Preliminary Results"
   ]
  },
  {
   "cell_type": "code",
   "execution_count": 1,
   "id": "dc781166-9b35-473f-ab61-4bd81942bf6a",
   "metadata": {},
   "outputs": [
    {
     "name": "stderr",
     "output_type": "stream",
     "text": [
      "── \u001b[1mAttaching packages\u001b[22m ─────────────────────────────────────── tidyverse 1.3.0 ──\n",
      "\n",
      "\u001b[32m✔\u001b[39m \u001b[34mggplot2\u001b[39m 3.3.6     \u001b[32m✔\u001b[39m \u001b[34mpurrr  \u001b[39m 0.3.4\n",
      "\u001b[32m✔\u001b[39m \u001b[34mtibble \u001b[39m 3.1.7     \u001b[32m✔\u001b[39m \u001b[34mdplyr  \u001b[39m 1.0.9\n",
      "\u001b[32m✔\u001b[39m \u001b[34mtidyr  \u001b[39m 1.2.0     \u001b[32m✔\u001b[39m \u001b[34mstringr\u001b[39m 1.4.0\n",
      "\u001b[32m✔\u001b[39m \u001b[34mreadr  \u001b[39m 2.1.2     \u001b[32m✔\u001b[39m \u001b[34mforcats\u001b[39m 0.5.1\n",
      "\n",
      "── \u001b[1mConflicts\u001b[22m ────────────────────────────────────────── tidyverse_conflicts() ──\n",
      "\u001b[31m✖\u001b[39m \u001b[34mdplyr\u001b[39m::\u001b[32mfilter()\u001b[39m masks \u001b[34mstats\u001b[39m::filter()\n",
      "\u001b[31m✖\u001b[39m \u001b[34mdplyr\u001b[39m::\u001b[32mlag()\u001b[39m    masks \u001b[34mstats\u001b[39m::lag()\n",
      "\n"
     ]
    }
   ],
   "source": [
    "library(tidyverse)\n",
    "library(infer)\n",
    "library(cowplot)"
   ]
  },
  {
   "cell_type": "code",
   "execution_count": 2,
   "id": "eb7c7d01-3c74-4f28-aa6b-166f39760de1",
   "metadata": {},
   "outputs": [
    {
     "data": {
      "text/html": [
       "<table class=\"dataframe\">\n",
       "<caption>A data.frame: 6 × 17</caption>\n",
       "<thead>\n",
       "\t<tr><th></th><th scope=col>id</th><th scope=col>name</th><th scope=col>date</th><th scope=col>manner_of_death</th><th scope=col>armed</th><th scope=col>age</th><th scope=col>gender</th><th scope=col>race</th><th scope=col>city</th><th scope=col>state</th><th scope=col>signs_of_mental_illness</th><th scope=col>threat_level</th><th scope=col>flee</th><th scope=col>body_camera</th><th scope=col>longitude</th><th scope=col>latitude</th><th scope=col>is_geocoding_exact</th></tr>\n",
       "\t<tr><th></th><th scope=col>&lt;int&gt;</th><th scope=col>&lt;chr&gt;</th><th scope=col>&lt;chr&gt;</th><th scope=col>&lt;chr&gt;</th><th scope=col>&lt;chr&gt;</th><th scope=col>&lt;int&gt;</th><th scope=col>&lt;chr&gt;</th><th scope=col>&lt;chr&gt;</th><th scope=col>&lt;chr&gt;</th><th scope=col>&lt;chr&gt;</th><th scope=col>&lt;chr&gt;</th><th scope=col>&lt;chr&gt;</th><th scope=col>&lt;chr&gt;</th><th scope=col>&lt;chr&gt;</th><th scope=col>&lt;dbl&gt;</th><th scope=col>&lt;dbl&gt;</th><th scope=col>&lt;chr&gt;</th></tr>\n",
       "</thead>\n",
       "<tbody>\n",
       "\t<tr><th scope=row>1</th><td> 3</td><td>Tim Elliot        </td><td>2015-01-02</td><td>shot            </td><td>gun       </td><td>53</td><td>M</td><td>A</td><td>Shelton      </td><td>WA</td><td>True </td><td>attack</td><td>Not fleeing</td><td>False</td><td>-123.122</td><td>47.247</td><td>True</td></tr>\n",
       "\t<tr><th scope=row>2</th><td> 4</td><td>Lewis Lee Lembke  </td><td>2015-01-02</td><td>shot            </td><td>gun       </td><td>47</td><td>M</td><td>W</td><td>Aloha        </td><td>OR</td><td>False</td><td>attack</td><td>Not fleeing</td><td>False</td><td>-122.892</td><td>45.487</td><td>True</td></tr>\n",
       "\t<tr><th scope=row>3</th><td> 5</td><td>John Paul Quintero</td><td>2015-01-03</td><td>shot and Tasered</td><td>unarmed   </td><td>23</td><td>M</td><td>H</td><td>Wichita      </td><td>KS</td><td>False</td><td>other </td><td>Not fleeing</td><td>False</td><td> -97.281</td><td>37.695</td><td>True</td></tr>\n",
       "\t<tr><th scope=row>4</th><td> 8</td><td>Matthew Hoffman   </td><td>2015-01-04</td><td>shot            </td><td>toy weapon</td><td>32</td><td>M</td><td>W</td><td>San Francisco</td><td>CA</td><td>True </td><td>attack</td><td>Not fleeing</td><td>False</td><td>-122.422</td><td>37.763</td><td>True</td></tr>\n",
       "\t<tr><th scope=row>5</th><td> 9</td><td>Michael Rodriguez </td><td>2015-01-04</td><td>shot            </td><td>nail gun  </td><td>39</td><td>M</td><td>H</td><td>Evans        </td><td>CO</td><td>False</td><td>attack</td><td>Not fleeing</td><td>False</td><td>-104.692</td><td>40.384</td><td>True</td></tr>\n",
       "\t<tr><th scope=row>6</th><td>11</td><td>Kenneth Joe Brown </td><td>2015-01-04</td><td>shot            </td><td>gun       </td><td>18</td><td>M</td><td>W</td><td>Guthrie      </td><td>OK</td><td>False</td><td>attack</td><td>Not fleeing</td><td>False</td><td> -97.423</td><td>35.877</td><td>True</td></tr>\n",
       "</tbody>\n",
       "</table>\n"
      ],
      "text/latex": [
       "A data.frame: 6 × 17\n",
       "\\begin{tabular}{r|lllllllllllllllll}\n",
       "  & id & name & date & manner\\_of\\_death & armed & age & gender & race & city & state & signs\\_of\\_mental\\_illness & threat\\_level & flee & body\\_camera & longitude & latitude & is\\_geocoding\\_exact\\\\\n",
       "  & <int> & <chr> & <chr> & <chr> & <chr> & <int> & <chr> & <chr> & <chr> & <chr> & <chr> & <chr> & <chr> & <chr> & <dbl> & <dbl> & <chr>\\\\\n",
       "\\hline\n",
       "\t1 &  3 & Tim Elliot         & 2015-01-02 & shot             & gun        & 53 & M & A & Shelton       & WA & True  & attack & Not fleeing & False & -123.122 & 47.247 & True\\\\\n",
       "\t2 &  4 & Lewis Lee Lembke   & 2015-01-02 & shot             & gun        & 47 & M & W & Aloha         & OR & False & attack & Not fleeing & False & -122.892 & 45.487 & True\\\\\n",
       "\t3 &  5 & John Paul Quintero & 2015-01-03 & shot and Tasered & unarmed    & 23 & M & H & Wichita       & KS & False & other  & Not fleeing & False &  -97.281 & 37.695 & True\\\\\n",
       "\t4 &  8 & Matthew Hoffman    & 2015-01-04 & shot             & toy weapon & 32 & M & W & San Francisco & CA & True  & attack & Not fleeing & False & -122.422 & 37.763 & True\\\\\n",
       "\t5 &  9 & Michael Rodriguez  & 2015-01-04 & shot             & nail gun   & 39 & M & H & Evans         & CO & False & attack & Not fleeing & False & -104.692 & 40.384 & True\\\\\n",
       "\t6 & 11 & Kenneth Joe Brown  & 2015-01-04 & shot             & gun        & 18 & M & W & Guthrie       & OK & False & attack & Not fleeing & False &  -97.423 & 35.877 & True\\\\\n",
       "\\end{tabular}\n"
      ],
      "text/markdown": [
       "\n",
       "A data.frame: 6 × 17\n",
       "\n",
       "| <!--/--> | id &lt;int&gt; | name &lt;chr&gt; | date &lt;chr&gt; | manner_of_death &lt;chr&gt; | armed &lt;chr&gt; | age &lt;int&gt; | gender &lt;chr&gt; | race &lt;chr&gt; | city &lt;chr&gt; | state &lt;chr&gt; | signs_of_mental_illness &lt;chr&gt; | threat_level &lt;chr&gt; | flee &lt;chr&gt; | body_camera &lt;chr&gt; | longitude &lt;dbl&gt; | latitude &lt;dbl&gt; | is_geocoding_exact &lt;chr&gt; |\n",
       "|---|---|---|---|---|---|---|---|---|---|---|---|---|---|---|---|---|---|\n",
       "| 1 |  3 | Tim Elliot         | 2015-01-02 | shot             | gun        | 53 | M | A | Shelton       | WA | True  | attack | Not fleeing | False | -123.122 | 47.247 | True |\n",
       "| 2 |  4 | Lewis Lee Lembke   | 2015-01-02 | shot             | gun        | 47 | M | W | Aloha         | OR | False | attack | Not fleeing | False | -122.892 | 45.487 | True |\n",
       "| 3 |  5 | John Paul Quintero | 2015-01-03 | shot and Tasered | unarmed    | 23 | M | H | Wichita       | KS | False | other  | Not fleeing | False |  -97.281 | 37.695 | True |\n",
       "| 4 |  8 | Matthew Hoffman    | 2015-01-04 | shot             | toy weapon | 32 | M | W | San Francisco | CA | True  | attack | Not fleeing | False | -122.422 | 37.763 | True |\n",
       "| 5 |  9 | Michael Rodriguez  | 2015-01-04 | shot             | nail gun   | 39 | M | H | Evans         | CO | False | attack | Not fleeing | False | -104.692 | 40.384 | True |\n",
       "| 6 | 11 | Kenneth Joe Brown  | 2015-01-04 | shot             | gun        | 18 | M | W | Guthrie       | OK | False | attack | Not fleeing | False |  -97.423 | 35.877 | True |\n",
       "\n"
      ],
      "text/plain": [
       "  id name               date       manner_of_death  armed      age gender race\n",
       "1  3 Tim Elliot         2015-01-02 shot             gun        53  M      A   \n",
       "2  4 Lewis Lee Lembke   2015-01-02 shot             gun        47  M      W   \n",
       "3  5 John Paul Quintero 2015-01-03 shot and Tasered unarmed    23  M      H   \n",
       "4  8 Matthew Hoffman    2015-01-04 shot             toy weapon 32  M      W   \n",
       "5  9 Michael Rodriguez  2015-01-04 shot             nail gun   39  M      H   \n",
       "6 11 Kenneth Joe Brown  2015-01-04 shot             gun        18  M      W   \n",
       "  city          state signs_of_mental_illness threat_level flee       \n",
       "1 Shelton       WA    True                    attack       Not fleeing\n",
       "2 Aloha         OR    False                   attack       Not fleeing\n",
       "3 Wichita       KS    False                   other        Not fleeing\n",
       "4 San Francisco CA    True                    attack       Not fleeing\n",
       "5 Evans         CO    False                   attack       Not fleeing\n",
       "6 Guthrie       OK    False                   attack       Not fleeing\n",
       "  body_camera longitude latitude is_geocoding_exact\n",
       "1 False       -123.122  47.247   True              \n",
       "2 False       -122.892  45.487   True              \n",
       "3 False        -97.281  37.695   True              \n",
       "4 False       -122.422  37.763   True              \n",
       "5 False       -104.692  40.384   True              \n",
       "6 False        -97.423  35.877   True              "
      ]
     },
     "metadata": {},
     "output_type": "display_data"
    }
   ],
   "source": [
    "# Reading the data from the web\n",
    "ShootingData <- read.csv('https://github.com/washingtonpost/data-police-shootings/releases/download/v0.1/fatal-police-shootings-data.csv')\n",
    "\n",
    "head(ShootingData)"
   ]
  },
  {
   "cell_type": "code",
   "execution_count": 3,
   "id": "400f3e55-df4f-4dfc-ad4e-44cca078539a",
   "metadata": {},
   "outputs": [
    {
     "data": {
      "text/html": [
       "<table class=\"dataframe\">\n",
       "<caption>A data.frame: 6 × 3</caption>\n",
       "<thead>\n",
       "\t<tr><th></th><th scope=col>manner_of_death</th><th scope=col>race</th><th scope=col>threat_level</th></tr>\n",
       "\t<tr><th></th><th scope=col>&lt;chr&gt;</th><th scope=col>&lt;chr&gt;</th><th scope=col>&lt;chr&gt;</th></tr>\n",
       "</thead>\n",
       "<tbody>\n",
       "\t<tr><th scope=row>1</th><td>shot</td><td>W</td><td>attack</td></tr>\n",
       "\t<tr><th scope=row>2</th><td>shot</td><td>W</td><td>attack</td></tr>\n",
       "\t<tr><th scope=row>3</th><td>shot</td><td>W</td><td>attack</td></tr>\n",
       "\t<tr><th scope=row>4</th><td>shot</td><td>W</td><td>attack</td></tr>\n",
       "\t<tr><th scope=row>5</th><td>shot</td><td>W</td><td>other </td></tr>\n",
       "\t<tr><th scope=row>6</th><td>shot</td><td>B</td><td>attack</td></tr>\n",
       "</tbody>\n",
       "</table>\n"
      ],
      "text/latex": [
       "A data.frame: 6 × 3\n",
       "\\begin{tabular}{r|lll}\n",
       "  & manner\\_of\\_death & race & threat\\_level\\\\\n",
       "  & <chr> & <chr> & <chr>\\\\\n",
       "\\hline\n",
       "\t1 & shot & W & attack\\\\\n",
       "\t2 & shot & W & attack\\\\\n",
       "\t3 & shot & W & attack\\\\\n",
       "\t4 & shot & W & attack\\\\\n",
       "\t5 & shot & W & other \\\\\n",
       "\t6 & shot & B & attack\\\\\n",
       "\\end{tabular}\n"
      ],
      "text/markdown": [
       "\n",
       "A data.frame: 6 × 3\n",
       "\n",
       "| <!--/--> | manner_of_death &lt;chr&gt; | race &lt;chr&gt; | threat_level &lt;chr&gt; |\n",
       "|---|---|---|---|\n",
       "| 1 | shot | W | attack |\n",
       "| 2 | shot | W | attack |\n",
       "| 3 | shot | W | attack |\n",
       "| 4 | shot | W | attack |\n",
       "| 5 | shot | W | other  |\n",
       "| 6 | shot | B | attack |\n",
       "\n"
      ],
      "text/plain": [
       "  manner_of_death race threat_level\n",
       "1 shot            W    attack      \n",
       "2 shot            W    attack      \n",
       "3 shot            W    attack      \n",
       "4 shot            W    attack      \n",
       "5 shot            W    other       \n",
       "6 shot            B    attack      "
      ]
     },
     "metadata": {},
     "output_type": "display_data"
    }
   ],
   "source": [
    "# Filtering the data for parameters of interest\n",
    "ShootingPop <- ShootingData %>%\n",
    "    filter(race %in% c('W', 'B'),\n",
    "          threat_level != 'undetermined') %>% \n",
    "    select(manner_of_death, race, threat_level)\n",
    "\n",
    "head(ShootingPop)"
   ]
  },
  {
   "cell_type": "code",
   "execution_count": 4,
   "id": "812006da-4e7e-4579-9465-adb8b5eca0d2",
   "metadata": {},
   "outputs": [
    {
     "data": {
      "text/html": [
       "4694"
      ],
      "text/latex": [
       "4694"
      ],
      "text/markdown": [
       "4694"
      ],
      "text/plain": [
       "[1] 4694"
      ]
     },
     "metadata": {},
     "output_type": "display_data"
    }
   ],
   "source": [
    "length(ShootingPop$manner_of_death)"
   ]
  },
  {
   "cell_type": "code",
   "execution_count": 5,
   "id": "054850fb-0df2-4ab4-8f33-dbaf03c42961",
   "metadata": {},
   "outputs": [
    {
     "name": "stderr",
     "output_type": "stream",
     "text": [
      "\u001b[1m\u001b[22m`summarise()` has grouped output by 'race'. You can override using the\n",
      "`.groups` argument.\n",
      "\u001b[1m\u001b[22m`summarise()` has grouped output by 'race'. You can override using the\n",
      "`.groups` argument.\n"
     ]
    },
    {
     "data": {
      "text/html": [
       "<table class=\"dataframe\">\n",
       "<caption>A grouped_df: 4 × 3</caption>\n",
       "<thead>\n",
       "\t<tr><th scope=col>race</th><th scope=col>threat_level</th><th scope=col>p</th></tr>\n",
       "\t<tr><th scope=col>&lt;chr&gt;</th><th scope=col>&lt;chr&gt;</th><th scope=col>&lt;dbl&gt;</th></tr>\n",
       "</thead>\n",
       "<tbody>\n",
       "\t<tr><td>B</td><td>attack</td><td>0.9614004</td></tr>\n",
       "\t<tr><td>B</td><td>other </td><td>0.9178357</td></tr>\n",
       "\t<tr><td>W</td><td>attack</td><td>0.9642685</td></tr>\n",
       "\t<tr><td>W</td><td>other </td><td>0.9297030</td></tr>\n",
       "</tbody>\n",
       "</table>\n"
      ],
      "text/latex": [
       "A grouped\\_df: 4 × 3\n",
       "\\begin{tabular}{lll}\n",
       " race & threat\\_level & p\\\\\n",
       " <chr> & <chr> & <dbl>\\\\\n",
       "\\hline\n",
       "\t B & attack & 0.9614004\\\\\n",
       "\t B & other  & 0.9178357\\\\\n",
       "\t W & attack & 0.9642685\\\\\n",
       "\t W & other  & 0.9297030\\\\\n",
       "\\end{tabular}\n"
      ],
      "text/markdown": [
       "\n",
       "A grouped_df: 4 × 3\n",
       "\n",
       "| race &lt;chr&gt; | threat_level &lt;chr&gt; | p &lt;dbl&gt; |\n",
       "|---|---|---|\n",
       "| B | attack | 0.9614004 |\n",
       "| B | other  | 0.9178357 |\n",
       "| W | attack | 0.9642685 |\n",
       "| W | other  | 0.9297030 |\n",
       "\n"
      ],
      "text/plain": [
       "  race threat_level p        \n",
       "1 B    attack       0.9614004\n",
       "2 B    other        0.9178357\n",
       "3 W    attack       0.9642685\n",
       "4 W    other        0.9297030"
      ]
     },
     "metadata": {},
     "output_type": "display_data"
    },
    {
     "data": {
      "text/html": [
       "<table class=\"dataframe\">\n",
       "<caption>A grouped_df: 4 × 3</caption>\n",
       "<thead>\n",
       "\t<tr><th scope=col>race</th><th scope=col>threat_level</th><th scope=col>p</th></tr>\n",
       "\t<tr><th scope=col>&lt;chr&gt;</th><th scope=col>&lt;chr&gt;</th><th scope=col>&lt;dbl&gt;</th></tr>\n",
       "</thead>\n",
       "<tbody>\n",
       "\t<tr><td>B</td><td>attack</td><td>0.03859964</td></tr>\n",
       "\t<tr><td>B</td><td>other </td><td>0.08216433</td></tr>\n",
       "\t<tr><td>W</td><td>attack</td><td>0.03573153</td></tr>\n",
       "\t<tr><td>W</td><td>other </td><td>0.07029703</td></tr>\n",
       "</tbody>\n",
       "</table>\n"
      ],
      "text/latex": [
       "A grouped\\_df: 4 × 3\n",
       "\\begin{tabular}{lll}\n",
       " race & threat\\_level & p\\\\\n",
       " <chr> & <chr> & <dbl>\\\\\n",
       "\\hline\n",
       "\t B & attack & 0.03859964\\\\\n",
       "\t B & other  & 0.08216433\\\\\n",
       "\t W & attack & 0.03573153\\\\\n",
       "\t W & other  & 0.07029703\\\\\n",
       "\\end{tabular}\n"
      ],
      "text/markdown": [
       "\n",
       "A grouped_df: 4 × 3\n",
       "\n",
       "| race &lt;chr&gt; | threat_level &lt;chr&gt; | p &lt;dbl&gt; |\n",
       "|---|---|---|\n",
       "| B | attack | 0.03859964 |\n",
       "| B | other  | 0.08216433 |\n",
       "| W | attack | 0.03573153 |\n",
       "| W | other  | 0.07029703 |\n",
       "\n"
      ],
      "text/plain": [
       "  race threat_level p         \n",
       "1 B    attack       0.03859964\n",
       "2 B    other        0.08216433\n",
       "3 W    attack       0.03573153\n",
       "4 W    other        0.07029703"
      ]
     },
     "metadata": {},
     "output_type": "display_data"
    },
    {
     "data": {
      "image/png": "[encoded data removed]",
      "text/plain": [
       "plot without title"
      ]
     },
     "metadata": {
      "image/png": {
       "height": 420,
       "width": 420
      }
     },
     "output_type": "display_data"
    }
   ],
   "source": [
    "# Displaying a graph for visualization and tables associated with proportions\n",
    "\n",
    "ShotOnlyProps <- ShootingPop %>% \n",
    "    group_by(race, threat_level) %>% \n",
    "    summarise(p = sum(manner_of_death == 'shot')/n())\n",
    "\n",
    "ShotAndTasedProps <- ShootingPop %>% \n",
    "    group_by(race, threat_level) %>% \n",
    "    summarise(p = sum(manner_of_death == 'shot and Tasered')/n())\n",
    "\n",
    "PlottingAttack <- ShootingPop %>%\n",
    "    filter(threat_level == 'attack') %>% \n",
    "    group_by(race) %>% \n",
    "    ggplot(aes(x = race, fill = manner_of_death)) +\n",
    "    labs(x = 'Race', fill = 'Manner of Death', y = 'Proportion') +\n",
    "    geom_bar(position = \"fill\") +\n",
    "    ggtitle(\"Attack Proportions Based on Race\") +\n",
    "    theme(text = element_text(size = 18))\n",
    "\n",
    "PlottingOther <- ShootingPop %>% \n",
    "    filter(threat_level == 'other') %>% \n",
    "    group_by(race) %>% \n",
    "    ggplot(aes(x = race, fill = manner_of_death)) +\n",
    "    labs(x = 'Race', fill = 'Manner of Death', y = 'Proportion') +\n",
    "    geom_bar(position = \"fill\") +\n",
    "    ggtitle(\"Other Proportions Based on Race\") +\n",
    "    theme(text = element_text(size = 18))\n",
    "\n",
    "ShotOnlyProps\n",
    "ShotAndTasedProps\n",
    "plot_grid(PlottingAttack, PlottingOther, nrow = 2)"
   ]
  },
  {
   "cell_type": "markdown",
   "id": "812965c8-b256-4337-8141-41fc1bff307a",
   "metadata": {},
   "source": [
    "## Methods: Plan\n",
    "\n",
    "Using our knowledge of inferential methods we are able to get an early sense of what the proportions look like for fatal police shooting decisions in relation to race and sense of threat. With both a table showing the numerical proportions and a bar graph providing an effective visualization, we can easily begin to make some interpretations about what the population data may look like. \n",
    "\n",
    "Since we are not certain whether or not the data may present some kind of bias (whether it be representing some US states more than others or mistakenly leaving out certain observations), we cannot fully rely only on the dataset to make an accurate estimation about the population. \n",
    "\n",
    "### Hypothesis Testing\n",
    "\n",
    "$p_1$ and $p_2$ represent the proportion for black people and white people that were shot deemed 'other' respectively\n",
    "\n",
    "- $H_0: p_1 - p_2 = 0$ \n",
    "\n",
    "- $H_A: p_1 - p_2 \\neq 0$\n",
    "\n",
    "By doing a hypothesis test, we will be able to see if the difference in proportions will be significant enough to reject the null hypothesis.\n",
    "\n",
    "### Confidence Interval\n",
    "\n",
    "We will obtain a confidence interval using bootstrapping to find a plausible range of values for our population proportions.\n",
    "\n",
    "### Scaled Parameter:\n",
    "\n",
    "We will estimate the population standard deviation using bootstrapping to generate a confidence interval to find a suitable range of values. The sd can provide a useful metric for how well our results generalize to the population\n",
    "\n",
    "### Expectations\n",
    "\n",
    "We expect to find some racial motivation behind the police shootings. Our findings will see if there is still evident racial discrimination present in the United States between law enforcement and African Americans.\n",
    "\n",
    "### Future Questions\n",
    "- How can we change society to make everyone more equal?\n",
    "- Is racism actually at an all-time low today in American history?\n",
    "- Are we doing enough as a society to see a declining trend in racial discrimination?\n",
    "\n",
    "## Methods and Results\n",
    "\n",
    "We'll start by filtering our dataset to only include `threat_level == 'other'`"
   ]
  },
  {
   "cell_type": "markdown",
   "id": "73336f1b-0b5d-4992-998e-21552d265969",
   "metadata": {},
   "source": [
    "### Wrangling Data into a dataframe of threat level: 'other:"
   ]
  },
  {
   "cell_type": "code",
   "execution_count": 6,
   "id": "7ec11779-9b25-4d24-977f-04f824ae48b6",
   "metadata": {},
   "outputs": [
    {
     "data": {
      "text/html": [
       "<table class=\"dataframe\">\n",
       "<caption>A data.frame: 6 × 3</caption>\n",
       "<thead>\n",
       "\t<tr><th></th><th scope=col>manner_of_death</th><th scope=col>race</th><th scope=col>threat_level</th></tr>\n",
       "\t<tr><th></th><th scope=col>&lt;chr&gt;</th><th scope=col>&lt;chr&gt;</th><th scope=col>&lt;chr&gt;</th></tr>\n",
       "</thead>\n",
       "<tbody>\n",
       "\t<tr><th scope=row>1</th><td>shot            </td><td>W</td><td>other</td></tr>\n",
       "\t<tr><th scope=row>2</th><td>shot            </td><td>B</td><td>other</td></tr>\n",
       "\t<tr><th scope=row>3</th><td>shot            </td><td>W</td><td>other</td></tr>\n",
       "\t<tr><th scope=row>4</th><td>shot            </td><td>B</td><td>other</td></tr>\n",
       "\t<tr><th scope=row>5</th><td>shot and Tasered</td><td>W</td><td>other</td></tr>\n",
       "\t<tr><th scope=row>6</th><td>shot            </td><td>B</td><td>other</td></tr>\n",
       "</tbody>\n",
       "</table>\n"
      ],
      "text/latex": [
       "A data.frame: 6 × 3\n",
       "\\begin{tabular}{r|lll}\n",
       "  & manner\\_of\\_death & race & threat\\_level\\\\\n",
       "  & <chr> & <chr> & <chr>\\\\\n",
       "\\hline\n",
       "\t1 & shot             & W & other\\\\\n",
       "\t2 & shot             & B & other\\\\\n",
       "\t3 & shot             & W & other\\\\\n",
       "\t4 & shot             & B & other\\\\\n",
       "\t5 & shot and Tasered & W & other\\\\\n",
       "\t6 & shot             & B & other\\\\\n",
       "\\end{tabular}\n"
      ],
      "text/markdown": [
       "\n",
       "A data.frame: 6 × 3\n",
       "\n",
       "| <!--/--> | manner_of_death &lt;chr&gt; | race &lt;chr&gt; | threat_level &lt;chr&gt; |\n",
       "|---|---|---|---|\n",
       "| 1 | shot             | W | other |\n",
       "| 2 | shot             | B | other |\n",
       "| 3 | shot             | W | other |\n",
       "| 4 | shot             | B | other |\n",
       "| 5 | shot and Tasered | W | other |\n",
       "| 6 | shot             | B | other |\n",
       "\n"
      ],
      "text/plain": [
       "  manner_of_death  race threat_level\n",
       "1 shot             W    other       \n",
       "2 shot             B    other       \n",
       "3 shot             W    other       \n",
       "4 shot             B    other       \n",
       "5 shot and Tasered W    other       \n",
       "6 shot             B    other       "
      ]
     },
     "metadata": {},
     "output_type": "display_data"
    }
   ],
   "source": [
    "\n",
    "ShootingOther <- ShootingPop %>% \n",
    "    filter(threat_level == 'other')\n",
    "\n",
    "head(ShootingOther)"
   ]
  },
  {
   "cell_type": "markdown",
   "id": "fd8b99da-3cc6-4dfe-bcb5-f89af9974f78",
   "metadata": {},
   "source": [
    "### Calculate the difference in proportions (Black/ White shot) for each sample and find the 95% confidence interval of the  difference in proportions"
   ]
  },
  {
   "cell_type": "code",
   "execution_count": 7,
   "id": "a4becb1e-0df9-4af5-8e71-90e3eb53159f",
   "metadata": {},
   "outputs": [
    {
     "data": {
      "text/html": [
       "<table class=\"dataframe\">\n",
       "<caption>A tibble: 1 × 2</caption>\n",
       "<thead>\n",
       "\t<tr><th scope=col>lower_ci</th><th scope=col>upper_ci</th></tr>\n",
       "\t<tr><th scope=col>&lt;dbl&gt;</th><th scope=col>&lt;dbl&gt;</th></tr>\n",
       "</thead>\n",
       "<tbody>\n",
       "\t<tr><td>-0.02683783</td><td>0.02705609</td></tr>\n",
       "</tbody>\n",
       "</table>\n"
      ],
      "text/latex": [
       "A tibble: 1 × 2\n",
       "\\begin{tabular}{ll}\n",
       " lower\\_ci & upper\\_ci\\\\\n",
       " <dbl> & <dbl>\\\\\n",
       "\\hline\n",
       "\t -0.02683783 & 0.02705609\\\\\n",
       "\\end{tabular}\n"
      ],
      "text/markdown": [
       "\n",
       "A tibble: 1 × 2\n",
       "\n",
       "| lower_ci &lt;dbl&gt; | upper_ci &lt;dbl&gt; |\n",
       "|---|---|\n",
       "| -0.02683783 | 0.02705609 |\n",
       "\n"
      ],
      "text/plain": [
       "  lower_ci    upper_ci  \n",
       "1 -0.02683783 0.02705609"
      ]
     },
     "metadata": {},
     "output_type": "display_data"
    }
   ],
   "source": [
    "set.seed(1)\n",
    "\n",
    "\n",
    "prop_diffs <-\n",
    "   ShootingOther %>% \n",
    "   specify(formula = manner_of_death ~ race, success = 'shot') %>% \n",
    "   hypothesize(null = \"independence\") %>% \n",
    "   generate(reps = 1000, type = \"permute\") %>% \n",
    "   calculate(stat = \"diff in props\", order = c('B', 'W'))\n",
    "\n",
    "\n",
    "\n",
    "prop_diffs_ci <- \n",
    "    prop_diffs %>% \n",
    "    summarise(lower_ci = quantile(stat, 0.025), upper_ci = quantile(stat, 0.975))\n",
    "\n",
    "prop_diffs_ci\n"
   ]
  },
  {
   "cell_type": "markdown",
   "id": "128947de-6239-4192-a699-9821b61b66d9",
   "metadata": {},
   "source": [
    "### Graph the Confidence interval of the difference in proportions"
   ]
  },
  {
   "cell_type": "code",
   "execution_count": 8,
   "id": "56420408-8ee0-4eb1-a1bc-dd8261805a69",
   "metadata": {},
   "outputs": [
    {
     "data": {
      "image/png": "[encoded data removed]",
      "text/plain": [
       "plot without title"
      ]
     },
     "metadata": {
      "image/png": {
       "height": 420,
       "width": 420
      }
     },
     "output_type": "display_data"
    }
   ],
   "source": [
    "mean_flow_ci_plot <- visualize(prop_diffs) + \n",
    "  shade_confidence_interval(endpoints = prop_diffs_ci) + xlab(\"Diff in Props\")\n",
    "\n",
    "mean_flow_ci_plot"
   ]
  },
  {
   "cell_type": "markdown",
   "id": "7dcc8b98-6dea-4f34-bc49-7a52dff79d32",
   "metadata": {},
   "source": [
    "## Calculate the P-value for the difference in proportions:\n",
    "\n",
    "#### First Find the observed difference in proportions for Black And White that were shot:"
   ]
  },
  {
   "cell_type": "code",
   "execution_count": 9,
   "id": "e76f35bd-024d-4222-bec7-d07106253e3f",
   "metadata": {},
   "outputs": [
    {
     "data": {
      "text/html": [
       "<table class=\"dataframe\">\n",
       "<caption>A tibble: 1 × 1</caption>\n",
       "<thead>\n",
       "\t<tr><th scope=col>stat</th></tr>\n",
       "\t<tr><th scope=col>&lt;dbl&gt;</th></tr>\n",
       "</thead>\n",
       "<tbody>\n",
       "\t<tr><td>-0.0118673</td></tr>\n",
       "</tbody>\n",
       "</table>\n"
      ],
      "text/latex": [
       "A tibble: 1 × 1\n",
       "\\begin{tabular}{l}\n",
       " stat\\\\\n",
       " <dbl>\\\\\n",
       "\\hline\n",
       "\t -0.0118673\\\\\n",
       "\\end{tabular}\n"
      ],
      "text/markdown": [
       "\n",
       "A tibble: 1 × 1\n",
       "\n",
       "| stat &lt;dbl&gt; |\n",
       "|---|\n",
       "| -0.0118673 |\n",
       "\n"
      ],
      "text/plain": [
       "  stat      \n",
       "1 -0.0118673"
      ]
     },
     "metadata": {},
     "output_type": "display_data"
    }
   ],
   "source": [
    "obs_diff_prop <- ShootingOther %>% \n",
    "  specify(formula = manner_of_death ~ race, success = 'shot')  %>% \n",
    "  calculate(stat = 'diff in props', order = c('B', 'W')) \n",
    "\n",
    "obs_diff_prop"
   ]
  },
  {
   "cell_type": "markdown",
   "id": "5f382236-b26d-4f2b-a1ea-cf77cfa9cd66",
   "metadata": {},
   "source": [
    "#### Now calculate the p-value using a bootstrap method with the obs_diff_prop above"
   ]
  },
  {
   "cell_type": "code",
   "execution_count": 10,
   "id": "43b8f2c6-68ad-4556-b5bc-2929e9b3b9fc",
   "metadata": {},
   "outputs": [
    {
     "data": {
      "text/html": [
       "<table class=\"dataframe\">\n",
       "<caption>A tibble: 1 × 1</caption>\n",
       "<thead>\n",
       "\t<tr><th scope=col>p_value</th></tr>\n",
       "\t<tr><th scope=col>&lt;dbl&gt;</th></tr>\n",
       "</thead>\n",
       "<tbody>\n",
       "\t<tr><td>0.464</td></tr>\n",
       "</tbody>\n",
       "</table>\n"
      ],
      "text/latex": [
       "A tibble: 1 × 1\n",
       "\\begin{tabular}{l}\n",
       " p\\_value\\\\\n",
       " <dbl>\\\\\n",
       "\\hline\n",
       "\t 0.464\\\\\n",
       "\\end{tabular}\n"
      ],
      "text/markdown": [
       "\n",
       "A tibble: 1 × 1\n",
       "\n",
       "| p_value &lt;dbl&gt; |\n",
       "|---|\n",
       "| 0.464 |\n",
       "\n"
      ],
      "text/plain": [
       "  p_value\n",
       "1 0.464  "
      ]
     },
     "metadata": {},
     "output_type": "display_data"
    }
   ],
   "source": [
    "set.seed(1)\n",
    "\n",
    "\n",
    "obs_shooting_permute_shot <- mean(ShootingOther$manner_of_death == 'shot' & ShootingOther$race == 'B') - mean(ShootingOther$manner_of_death == 'shot' & ShootingOther$race == 'W')\n",
    "\n",
    "\n",
    "\n",
    "Shooting_pValue <- ShootingOther %>% \n",
    "    specify(formula = manner_of_death ~ race, success = 'shot') %>% \n",
    "    hypothesize(null = 'independence') %>% \n",
    "    generate(type = 'permute', reps = 1000) %>% \n",
    "    calculate(stat = 'diff in props', order = c('B', 'W')) %>% \n",
    "    get_p_value(obs_diff_prop, direction = 'both')\n",
    "\n",
    "Shooting_pValue"
   ]
  },
  {
   "cell_type": "markdown",
   "id": "5c53a476-667a-4969-98a4-1137e6d86efd",
   "metadata": {},
   "source": [
    "#### Finally, visualize the p-value:"
   ]
  },
  {
   "cell_type": "code",
   "execution_count": 11,
   "id": "61c50b52-675a-4312-a8e6-a5993a50fd02",
   "metadata": {},
   "outputs": [
    {
     "data": {
      "image/png": "[encoded data removed]",
      "text/plain": [
       "plot without title"
      ]
     },
     "metadata": {
      "image/png": {
       "height": 420,
       "width": 420
      }
     },
     "output_type": "display_data"
    }
   ],
   "source": [
    "visualize(prop_diffs, bins = 10) + \n",
    "  shade_p_value(obs_stat = obs_diff_prop, direction = \"both\")"
   ]
  },
  {
   "cell_type": "markdown",
   "id": "4f843af2-5873-4841-afaa-d95ac2a6046f",
   "metadata": {},
   "source": [
    "### Conclusion on the 5% $\\alpha$ Level:"
   ]
  },
  {
   "cell_type": "markdown",
   "id": "b854bf53-53da-45fd-a781-d7d50e136ee4",
   "metadata": {},
   "source": [
    "Because the p-value calculated is 0.464 which is greater that 0.05 we then fail to reject the Null Hypothesis that there is a difference in the proportion of 'other' threat level Black versus White people shot."
   ]
  },
  {
   "cell_type": "markdown",
   "id": "d3a60f54-8ec5-45b6-89b1-f6197f25f0f4",
   "metadata": {},
   "source": [
    "### SD / Z point estimate?"
   ]
  },
  {
   "cell_type": "code",
   "execution_count": 12,
   "id": "10ff6b76-c1b9-4967-b595-bdf3cd27af72",
   "metadata": {},
   "outputs": [
    {
     "data": {
      "text/html": [
       "<table class=\"dataframe\">\n",
       "<caption>A tibble: 1 × 1</caption>\n",
       "<thead>\n",
       "\t<tr><th scope=col>stat</th></tr>\n",
       "\t<tr><th scope=col>&lt;dbl&gt;</th></tr>\n",
       "</thead>\n",
       "<tbody>\n",
       "\t<tr><td>-0.8273709</td></tr>\n",
       "</tbody>\n",
       "</table>\n"
      ],
      "text/latex": [
       "A tibble: 1 × 1\n",
       "\\begin{tabular}{l}\n",
       " stat\\\\\n",
       " <dbl>\\\\\n",
       "\\hline\n",
       "\t -0.8273709\\\\\n",
       "\\end{tabular}\n"
      ],
      "text/markdown": [
       "\n",
       "A tibble: 1 × 1\n",
       "\n",
       "| stat &lt;dbl&gt; |\n",
       "|---|\n",
       "| -0.8273709 |\n",
       "\n"
      ],
      "text/plain": [
       "  stat      \n",
       "1 -0.8273709"
      ]
     },
     "metadata": {},
     "output_type": "display_data"
    },
    {
     "data": {
      "text/html": [
       "<table class=\"dataframe\">\n",
       "<caption>A tibble: 1 × 2</caption>\n",
       "<thead>\n",
       "\t<tr><th scope=col>lower_ci</th><th scope=col>upper_ci</th></tr>\n",
       "\t<tr><th scope=col>&lt;dbl&gt;</th><th scope=col>&lt;dbl&gt;</th></tr>\n",
       "</thead>\n",
       "<tbody>\n",
       "\t<tr><td>-2.75333</td><td>1.233812</td></tr>\n",
       "</tbody>\n",
       "</table>\n"
      ],
      "text/latex": [
       "A tibble: 1 × 2\n",
       "\\begin{tabular}{ll}\n",
       " lower\\_ci & upper\\_ci\\\\\n",
       " <dbl> & <dbl>\\\\\n",
       "\\hline\n",
       "\t -2.75333 & 1.233812\\\\\n",
       "\\end{tabular}\n"
      ],
      "text/markdown": [
       "\n",
       "A tibble: 1 × 2\n",
       "\n",
       "| lower_ci &lt;dbl&gt; | upper_ci &lt;dbl&gt; |\n",
       "|---|---|\n",
       "| -2.75333 | 1.233812 |\n",
       "\n"
      ],
      "text/plain": [
       "  lower_ci upper_ci\n",
       "1 -2.75333 1.233812"
      ]
     },
     "metadata": {},
     "output_type": "display_data"
    },
    {
     "data": {
      "image/png": "[encoded data removed]",
      "text/plain": [
       "plot without title"
      ]
     },
     "metadata": {
      "image/png": {
       "height": 420,
       "width": 420
      }
     },
     "output_type": "display_data"
    }
   ],
   "source": [
    "\n",
    "\n",
    "z_hat <- ShootingOther %>% \n",
    "  specify(manner_of_death ~ race, success = \"shot\") %>%\n",
    "  calculate(stat = \"z\", order = c('B', 'W'))\n",
    "\n",
    "boot_dist <- ShootingOther %>%\n",
    "  specify(manner_of_death ~ race, success = \"shot\") %>%\n",
    "  generate(reps = 1000, type = \"bootstrap\") %>% \n",
    "  calculate(stat = \"z\", order = c('B', 'W'))\n",
    "\n",
    "percentile_ci <- get_ci(boot_dist)\n",
    "\n",
    "z_hat\n",
    "\n",
    "percentile_ci\n",
    "\n",
    "visualize(boot_dist) +\n",
    "  shade_confidence_interval(endpoints = percentile_ci)\n",
    "\n",
    "\n",
    "\n"
   ]
  },
  {
   "cell_type": "markdown",
   "id": "11ff4d56-9628-4714-9653-d12dbe86f07d",
   "metadata": {},
   "source": [
    "## References\n",
    "\n",
    "\n",
    "### 1.\n",
    "Belli, B. (2021, April 12). Racial  Racial disparity in police shootings unchanged over 5 years. Yale News. Retrieved July 25, 2022, from https://news.yale.edu/2020/10/27/racial-disparity-police-shootings-unchanged-over-5-years \n",
    "\n",
    "### 2.\n",
    "Cesario, J., Johnson, D. J., & Terrill, W. (2019). Is There Evidence of Racial Disparity in Police Use of Deadly Force? Analyses of Officer-Involved Fatal Shootings in 2015–2016. Social Psychological and Personality Science, 10(5), 586–595. https://doi.org/10.1177/1948550618775108\n",
    "\n",
    "\n",
    "### 3.\n",
    "Williams, H. E., Reinhard, D., & Oriola, T. B. (2021). Fatal officer involved shootings following the use of TASER conducted energy weapons. The Police Journal. https://doi.org/10.1177/0032258X211030322\n",
    "\n",
    "\n",
    "\n",
    "\n",
    "### Dataset\n",
    "https://github.com/washingtonpost/data-police-shootings/releases/download/v0.1/fatal-police-shootings-data.csv"
   ]
  }
 ],
 "metadata": {
  "kernelspec": {
   "display_name": "R",
   "language": "R",
   "name": "ir"
  },
  "language_info": {
   "codemirror_mode": "r",
   "file_extension": ".r",
   "mimetype": "text/x-r-source",
   "name": "R",
   "pygments_lexer": "r",
   "version": "4.0.5"
  }
 },
 "nbformat": 4,
 "nbformat_minor": 5
}
