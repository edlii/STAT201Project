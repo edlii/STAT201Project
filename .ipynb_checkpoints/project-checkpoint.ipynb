{
 "cells": [
  {
   "cell_type": "markdown",
   "id": "635ecf44-ffbf-4fee-ad61-7189aae2b9af",
   "metadata": {},
   "source": [
    "# Group Project 22\n",
    "\n",
    "*Group Members: Angelique Clara Hanzell, Jack Parkinson, Edward Liang, Vamsi Nadella*"
   ]
  },
  {
   "cell_type": "markdown",
   "id": "69ed7f7a-e8ae-4987-bb08-f2f3945a1520",
   "metadata": {},
   "source": [
    "## Question\n",
    "\n",
    "We are trying to see whether or not a person was tased before being shot based on factors like race and threat level.\n",
    "\n",
    "WHAT TA GAVE US:\n",
    "group by race and threat_level and find proportion of being shot/shot and tased. Then, analyze the proportions to see if they differ (racism) or not (no racism)"
   ]
  },
  {
   "cell_type": "code",
   "execution_count": 1,
   "id": "dc781166-9b35-473f-ab61-4bd81942bf6a",
   "metadata": {},
   "outputs": [
    {
     "name": "stderr",
     "output_type": "stream",
     "text": [
      "── \u001b[1mAttaching packages\u001b[22m ─────────────────────────────────────── tidyverse 1.3.0 ──\n",
      "\n",
      "\u001b[32m✔\u001b[39m \u001b[34mggplot2\u001b[39m 3.3.6     \u001b[32m✔\u001b[39m \u001b[34mpurrr  \u001b[39m 0.3.4\n",
      "\u001b[32m✔\u001b[39m \u001b[34mtibble \u001b[39m 3.1.7     \u001b[32m✔\u001b[39m \u001b[34mdplyr  \u001b[39m 1.0.9\n",
      "\u001b[32m✔\u001b[39m \u001b[34mtidyr  \u001b[39m 1.2.0     \u001b[32m✔\u001b[39m \u001b[34mstringr\u001b[39m 1.4.0\n",
      "\u001b[32m✔\u001b[39m \u001b[34mreadr  \u001b[39m 2.1.2     \u001b[32m✔\u001b[39m \u001b[34mforcats\u001b[39m 0.5.1\n",
      "\n",
      "── \u001b[1mConflicts\u001b[22m ────────────────────────────────────────── tidyverse_conflicts() ──\n",
      "\u001b[31m✖\u001b[39m \u001b[34mdplyr\u001b[39m::\u001b[32mfilter()\u001b[39m masks \u001b[34mstats\u001b[39m::filter()\n",
      "\u001b[31m✖\u001b[39m \u001b[34mdplyr\u001b[39m::\u001b[32mlag()\u001b[39m    masks \u001b[34mstats\u001b[39m::lag()\n",
      "\n"
     ]
    }
   ],
   "source": [
    "library(tidyverse)"
   ]
  },
  {
   "cell_type": "code",
   "execution_count": 2,
   "id": "eb7c7d01-3c74-4f28-aa6b-166f39760de1",
   "metadata": {},
   "outputs": [
    {
     "data": {
      "text/html": [
       "<table class=\"dataframe\">\n",
       "<caption>A data.frame: 6 × 17</caption>\n",
       "<thead>\n",
       "\t<tr><th></th><th scope=col>id</th><th scope=col>name</th><th scope=col>date</th><th scope=col>manner_of_death</th><th scope=col>armed</th><th scope=col>age</th><th scope=col>gender</th><th scope=col>race</th><th scope=col>city</th><th scope=col>state</th><th scope=col>signs_of_mental_illness</th><th scope=col>threat_level</th><th scope=col>flee</th><th scope=col>body_camera</th><th scope=col>longitude</th><th scope=col>latitude</th><th scope=col>is_geocoding_exact</th></tr>\n",
       "\t<tr><th></th><th scope=col>&lt;int&gt;</th><th scope=col>&lt;chr&gt;</th><th scope=col>&lt;chr&gt;</th><th scope=col>&lt;chr&gt;</th><th scope=col>&lt;chr&gt;</th><th scope=col>&lt;int&gt;</th><th scope=col>&lt;chr&gt;</th><th scope=col>&lt;chr&gt;</th><th scope=col>&lt;chr&gt;</th><th scope=col>&lt;chr&gt;</th><th scope=col>&lt;chr&gt;</th><th scope=col>&lt;chr&gt;</th><th scope=col>&lt;chr&gt;</th><th scope=col>&lt;chr&gt;</th><th scope=col>&lt;dbl&gt;</th><th scope=col>&lt;dbl&gt;</th><th scope=col>&lt;chr&gt;</th></tr>\n",
       "</thead>\n",
       "<tbody>\n",
       "\t<tr><th scope=row>1</th><td> 3</td><td>Tim Elliot        </td><td>2015-01-02</td><td>shot            </td><td>gun       </td><td>53</td><td>M</td><td>A</td><td>Shelton      </td><td>WA</td><td>True </td><td>attack</td><td>Not fleeing</td><td>False</td><td>-123.122</td><td>47.247</td><td>True</td></tr>\n",
       "\t<tr><th scope=row>2</th><td> 4</td><td>Lewis Lee Lembke  </td><td>2015-01-02</td><td>shot            </td><td>gun       </td><td>47</td><td>M</td><td>W</td><td>Aloha        </td><td>OR</td><td>False</td><td>attack</td><td>Not fleeing</td><td>False</td><td>-122.892</td><td>45.487</td><td>True</td></tr>\n",
       "\t<tr><th scope=row>3</th><td> 5</td><td>John Paul Quintero</td><td>2015-01-03</td><td>shot and Tasered</td><td>unarmed   </td><td>23</td><td>M</td><td>H</td><td>Wichita      </td><td>KS</td><td>False</td><td>other </td><td>Not fleeing</td><td>False</td><td> -97.281</td><td>37.695</td><td>True</td></tr>\n",
       "\t<tr><th scope=row>4</th><td> 8</td><td>Matthew Hoffman   </td><td>2015-01-04</td><td>shot            </td><td>toy weapon</td><td>32</td><td>M</td><td>W</td><td>San Francisco</td><td>CA</td><td>True </td><td>attack</td><td>Not fleeing</td><td>False</td><td>-122.422</td><td>37.763</td><td>True</td></tr>\n",
       "\t<tr><th scope=row>5</th><td> 9</td><td>Michael Rodriguez </td><td>2015-01-04</td><td>shot            </td><td>nail gun  </td><td>39</td><td>M</td><td>H</td><td>Evans        </td><td>CO</td><td>False</td><td>attack</td><td>Not fleeing</td><td>False</td><td>-104.692</td><td>40.384</td><td>True</td></tr>\n",
       "\t<tr><th scope=row>6</th><td>11</td><td>Kenneth Joe Brown </td><td>2015-01-04</td><td>shot            </td><td>gun       </td><td>18</td><td>M</td><td>W</td><td>Guthrie      </td><td>OK</td><td>False</td><td>attack</td><td>Not fleeing</td><td>False</td><td> -97.423</td><td>35.877</td><td>True</td></tr>\n",
       "</tbody>\n",
       "</table>\n"
      ],
      "text/latex": [
       "A data.frame: 6 × 17\n",
       "\\begin{tabular}{r|lllllllllllllllll}\n",
       "  & id & name & date & manner\\_of\\_death & armed & age & gender & race & city & state & signs\\_of\\_mental\\_illness & threat\\_level & flee & body\\_camera & longitude & latitude & is\\_geocoding\\_exact\\\\\n",
       "  & <int> & <chr> & <chr> & <chr> & <chr> & <int> & <chr> & <chr> & <chr> & <chr> & <chr> & <chr> & <chr> & <chr> & <dbl> & <dbl> & <chr>\\\\\n",
       "\\hline\n",
       "\t1 &  3 & Tim Elliot         & 2015-01-02 & shot             & gun        & 53 & M & A & Shelton       & WA & True  & attack & Not fleeing & False & -123.122 & 47.247 & True\\\\\n",
       "\t2 &  4 & Lewis Lee Lembke   & 2015-01-02 & shot             & gun        & 47 & M & W & Aloha         & OR & False & attack & Not fleeing & False & -122.892 & 45.487 & True\\\\\n",
       "\t3 &  5 & John Paul Quintero & 2015-01-03 & shot and Tasered & unarmed    & 23 & M & H & Wichita       & KS & False & other  & Not fleeing & False &  -97.281 & 37.695 & True\\\\\n",
       "\t4 &  8 & Matthew Hoffman    & 2015-01-04 & shot             & toy weapon & 32 & M & W & San Francisco & CA & True  & attack & Not fleeing & False & -122.422 & 37.763 & True\\\\\n",
       "\t5 &  9 & Michael Rodriguez  & 2015-01-04 & shot             & nail gun   & 39 & M & H & Evans         & CO & False & attack & Not fleeing & False & -104.692 & 40.384 & True\\\\\n",
       "\t6 & 11 & Kenneth Joe Brown  & 2015-01-04 & shot             & gun        & 18 & M & W & Guthrie       & OK & False & attack & Not fleeing & False &  -97.423 & 35.877 & True\\\\\n",
       "\\end{tabular}\n"
      ],
      "text/markdown": [
       "\n",
       "A data.frame: 6 × 17\n",
       "\n",
       "| <!--/--> | id &lt;int&gt; | name &lt;chr&gt; | date &lt;chr&gt; | manner_of_death &lt;chr&gt; | armed &lt;chr&gt; | age &lt;int&gt; | gender &lt;chr&gt; | race &lt;chr&gt; | city &lt;chr&gt; | state &lt;chr&gt; | signs_of_mental_illness &lt;chr&gt; | threat_level &lt;chr&gt; | flee &lt;chr&gt; | body_camera &lt;chr&gt; | longitude &lt;dbl&gt; | latitude &lt;dbl&gt; | is_geocoding_exact &lt;chr&gt; |\n",
       "|---|---|---|---|---|---|---|---|---|---|---|---|---|---|---|---|---|---|\n",
       "| 1 |  3 | Tim Elliot         | 2015-01-02 | shot             | gun        | 53 | M | A | Shelton       | WA | True  | attack | Not fleeing | False | -123.122 | 47.247 | True |\n",
       "| 2 |  4 | Lewis Lee Lembke   | 2015-01-02 | shot             | gun        | 47 | M | W | Aloha         | OR | False | attack | Not fleeing | False | -122.892 | 45.487 | True |\n",
       "| 3 |  5 | John Paul Quintero | 2015-01-03 | shot and Tasered | unarmed    | 23 | M | H | Wichita       | KS | False | other  | Not fleeing | False |  -97.281 | 37.695 | True |\n",
       "| 4 |  8 | Matthew Hoffman    | 2015-01-04 | shot             | toy weapon | 32 | M | W | San Francisco | CA | True  | attack | Not fleeing | False | -122.422 | 37.763 | True |\n",
       "| 5 |  9 | Michael Rodriguez  | 2015-01-04 | shot             | nail gun   | 39 | M | H | Evans         | CO | False | attack | Not fleeing | False | -104.692 | 40.384 | True |\n",
       "| 6 | 11 | Kenneth Joe Brown  | 2015-01-04 | shot             | gun        | 18 | M | W | Guthrie       | OK | False | attack | Not fleeing | False |  -97.423 | 35.877 | True |\n",
       "\n"
      ],
      "text/plain": [
       "  id name               date       manner_of_death  armed      age gender race\n",
       "1  3 Tim Elliot         2015-01-02 shot             gun        53  M      A   \n",
       "2  4 Lewis Lee Lembke   2015-01-02 shot             gun        47  M      W   \n",
       "3  5 John Paul Quintero 2015-01-03 shot and Tasered unarmed    23  M      H   \n",
       "4  8 Matthew Hoffman    2015-01-04 shot             toy weapon 32  M      W   \n",
       "5  9 Michael Rodriguez  2015-01-04 shot             nail gun   39  M      H   \n",
       "6 11 Kenneth Joe Brown  2015-01-04 shot             gun        18  M      W   \n",
       "  city          state signs_of_mental_illness threat_level flee       \n",
       "1 Shelton       WA    True                    attack       Not fleeing\n",
       "2 Aloha         OR    False                   attack       Not fleeing\n",
       "3 Wichita       KS    False                   other        Not fleeing\n",
       "4 San Francisco CA    True                    attack       Not fleeing\n",
       "5 Evans         CO    False                   attack       Not fleeing\n",
       "6 Guthrie       OK    False                   attack       Not fleeing\n",
       "  body_camera longitude latitude is_geocoding_exact\n",
       "1 False       -123.122  47.247   True              \n",
       "2 False       -122.892  45.487   True              \n",
       "3 False        -97.281  37.695   True              \n",
       "4 False       -122.422  37.763   True              \n",
       "5 False       -104.692  40.384   True              \n",
       "6 False        -97.423  35.877   True              "
      ]
     },
     "metadata": {},
     "output_type": "display_data"
    }
   ],
   "source": [
    "ShootingData <- read.csv('https://github.com/washingtonpost/data-police-shootings/releases/download/v0.1/fatal-police-shootings-data.csv')\n",
    "\n",
    "head(ShootingData)"
   ]
  },
  {
   "cell_type": "code",
   "execution_count": 8,
   "id": "400f3e55-df4f-4dfc-ad4e-44cca078539a",
   "metadata": {},
   "outputs": [
    {
     "data": {
      "text/html": [
       "<table class=\"dataframe\">\n",
       "<caption>A data.frame: 6 × 3</caption>\n",
       "<thead>\n",
       "\t<tr><th></th><th scope=col>manner_of_death</th><th scope=col>race</th><th scope=col>threat_level</th></tr>\n",
       "\t<tr><th></th><th scope=col>&lt;chr&gt;</th><th scope=col>&lt;chr&gt;</th><th scope=col>&lt;chr&gt;</th></tr>\n",
       "</thead>\n",
       "<tbody>\n",
       "\t<tr><th scope=row>1</th><td>shot            </td><td>A</td><td>attack</td></tr>\n",
       "\t<tr><th scope=row>2</th><td>shot            </td><td>W</td><td>attack</td></tr>\n",
       "\t<tr><th scope=row>3</th><td>shot and Tasered</td><td>H</td><td>other </td></tr>\n",
       "\t<tr><th scope=row>4</th><td>shot            </td><td>W</td><td>attack</td></tr>\n",
       "\t<tr><th scope=row>5</th><td>shot            </td><td>H</td><td>attack</td></tr>\n",
       "\t<tr><th scope=row>6</th><td>shot            </td><td>W</td><td>attack</td></tr>\n",
       "</tbody>\n",
       "</table>\n"
      ],
      "text/latex": [
       "A data.frame: 6 × 3\n",
       "\\begin{tabular}{r|lll}\n",
       "  & manner\\_of\\_death & race & threat\\_level\\\\\n",
       "  & <chr> & <chr> & <chr>\\\\\n",
       "\\hline\n",
       "\t1 & shot             & A & attack\\\\\n",
       "\t2 & shot             & W & attack\\\\\n",
       "\t3 & shot and Tasered & H & other \\\\\n",
       "\t4 & shot             & W & attack\\\\\n",
       "\t5 & shot             & H & attack\\\\\n",
       "\t6 & shot             & W & attack\\\\\n",
       "\\end{tabular}\n"
      ],
      "text/markdown": [
       "\n",
       "A data.frame: 6 × 3\n",
       "\n",
       "| <!--/--> | manner_of_death &lt;chr&gt; | race &lt;chr&gt; | threat_level &lt;chr&gt; |\n",
       "|---|---|---|---|\n",
       "| 1 | shot             | A | attack |\n",
       "| 2 | shot             | W | attack |\n",
       "| 3 | shot and Tasered | H | other  |\n",
       "| 4 | shot             | W | attack |\n",
       "| 5 | shot             | H | attack |\n",
       "| 6 | shot             | W | attack |\n",
       "\n"
      ],
      "text/plain": [
       "  manner_of_death  race threat_level\n",
       "1 shot             A    attack      \n",
       "2 shot             W    attack      \n",
       "3 shot and Tasered H    other       \n",
       "4 shot             W    attack      \n",
       "5 shot             H    attack      \n",
       "6 shot             W    attack      "
      ]
     },
     "metadata": {},
     "output_type": "display_data"
    }
   ],
   "source": [
    "ShootingPop <- ShootingData %>%\n",
    "    filter(race != '',\n",
    "          threat_level != 'undetermined') %>% \n",
    "    select(manner_of_death, race, threat_level)\n",
    "\n",
    "head(ShootingPop)"
   ]
  },
  {
   "cell_type": "code",
   "execution_count": 21,
   "id": "054850fb-0df2-4ab4-8f33-dbaf03c42961",
   "metadata": {},
   "outputs": [
    {
     "name": "stderr",
     "output_type": "stream",
     "text": [
      "\u001b[1m\u001b[22m`summarise()` has grouped output by 'race'. You can override using the\n",
      "`.groups` argument.\n"
     ]
    },
    {
     "data": {
      "text/html": [
       "<table class=\"dataframe\">\n",
       "<caption>A grouped_df: 12 × 3</caption>\n",
       "<thead>\n",
       "\t<tr><th scope=col>race</th><th scope=col>threat_level</th><th scope=col>p</th></tr>\n",
       "\t<tr><th scope=col>&lt;chr&gt;</th><th scope=col>&lt;chr&gt;</th><th scope=col>&lt;dbl&gt;</th></tr>\n",
       "</thead>\n",
       "<tbody>\n",
       "\t<tr><td>A</td><td>attack</td><td>0.9322034</td></tr>\n",
       "\t<tr><td>A</td><td>other </td><td>0.9183673</td></tr>\n",
       "\t<tr><td>B</td><td>attack</td><td>0.9612263</td></tr>\n",
       "\t<tr><td>B</td><td>other </td><td>0.9170040</td></tr>\n",
       "\t<tr><td>H</td><td>attack</td><td>0.9566563</td></tr>\n",
       "\t<tr><td>H</td><td>other </td><td>0.9348837</td></tr>\n",
       "\t<tr><td>N</td><td>attack</td><td>0.9454545</td></tr>\n",
       "\t<tr><td>N</td><td>other </td><td>0.9444444</td></tr>\n",
       "\t<tr><td>O</td><td>attack</td><td>0.9354839</td></tr>\n",
       "\t<tr><td>O</td><td>other </td><td>0.8125000</td></tr>\n",
       "\t<tr><td>W</td><td>attack</td><td>0.9641473</td></tr>\n",
       "\t<tr><td>W</td><td>other </td><td>0.9285714</td></tr>\n",
       "</tbody>\n",
       "</table>\n"
      ],
      "text/latex": [
       "A grouped\\_df: 12 × 3\n",
       "\\begin{tabular}{lll}\n",
       " race & threat\\_level & p\\\\\n",
       " <chr> & <chr> & <dbl>\\\\\n",
       "\\hline\n",
       "\t A & attack & 0.9322034\\\\\n",
       "\t A & other  & 0.9183673\\\\\n",
       "\t B & attack & 0.9612263\\\\\n",
       "\t B & other  & 0.9170040\\\\\n",
       "\t H & attack & 0.9566563\\\\\n",
       "\t H & other  & 0.9348837\\\\\n",
       "\t N & attack & 0.9454545\\\\\n",
       "\t N & other  & 0.9444444\\\\\n",
       "\t O & attack & 0.9354839\\\\\n",
       "\t O & other  & 0.8125000\\\\\n",
       "\t W & attack & 0.9641473\\\\\n",
       "\t W & other  & 0.9285714\\\\\n",
       "\\end{tabular}\n"
      ],
      "text/markdown": [
       "\n",
       "A grouped_df: 12 × 3\n",
       "\n",
       "| race &lt;chr&gt; | threat_level &lt;chr&gt; | p &lt;dbl&gt; |\n",
       "|---|---|---|\n",
       "| A | attack | 0.9322034 |\n",
       "| A | other  | 0.9183673 |\n",
       "| B | attack | 0.9612263 |\n",
       "| B | other  | 0.9170040 |\n",
       "| H | attack | 0.9566563 |\n",
       "| H | other  | 0.9348837 |\n",
       "| N | attack | 0.9454545 |\n",
       "| N | other  | 0.9444444 |\n",
       "| O | attack | 0.9354839 |\n",
       "| O | other  | 0.8125000 |\n",
       "| W | attack | 0.9641473 |\n",
       "| W | other  | 0.9285714 |\n",
       "\n"
      ],
      "text/plain": [
       "   race threat_level p        \n",
       "1  A    attack       0.9322034\n",
       "2  A    other        0.9183673\n",
       "3  B    attack       0.9612263\n",
       "4  B    other        0.9170040\n",
       "5  H    attack       0.9566563\n",
       "6  H    other        0.9348837\n",
       "7  N    attack       0.9454545\n",
       "8  N    other        0.9444444\n",
       "9  O    attack       0.9354839\n",
       "10 O    other        0.8125000\n",
       "11 W    attack       0.9641473\n",
       "12 W    other        0.9285714"
      ]
     },
     "metadata": {},
     "output_type": "display_data"
    }
   ],
   "source": [
    "ShotOnlyNums <- ShootingPop %>% \n",
    "    group_by(race, threat_level) %>% \n",
    "    summarise(p = sum(manner_of_death == 'shot')/n())\n",
    "\n",
    "ShotOnlyNums"
   ]
  },
  {
   "cell_type": "code",
   "execution_count": 22,
   "id": "3ce7af8f-ac36-4306-a059-b9d7811f80c2",
   "metadata": {},
   "outputs": [
    {
     "name": "stderr",
     "output_type": "stream",
     "text": [
      "\u001b[1m\u001b[22m`summarise()` has grouped output by 'race'. You can override using the\n",
      "`.groups` argument.\n"
     ]
    },
    {
     "data": {
      "text/html": [
       "<table class=\"dataframe\">\n",
       "<caption>A grouped_df: 12 × 3</caption>\n",
       "<thead>\n",
       "\t<tr><th scope=col>race</th><th scope=col>threat_level</th><th scope=col>p</th></tr>\n",
       "\t<tr><th scope=col>&lt;chr&gt;</th><th scope=col>&lt;chr&gt;</th><th scope=col>&lt;dbl&gt;</th></tr>\n",
       "</thead>\n",
       "<tbody>\n",
       "\t<tr><td>A</td><td>attack</td><td>0.06779661</td></tr>\n",
       "\t<tr><td>A</td><td>other </td><td>0.08163265</td></tr>\n",
       "\t<tr><td>B</td><td>attack</td><td>0.03877367</td></tr>\n",
       "\t<tr><td>B</td><td>other </td><td>0.08299595</td></tr>\n",
       "\t<tr><td>H</td><td>attack</td><td>0.04334365</td></tr>\n",
       "\t<tr><td>H</td><td>other </td><td>0.06511628</td></tr>\n",
       "\t<tr><td>N</td><td>attack</td><td>0.05454545</td></tr>\n",
       "\t<tr><td>N</td><td>other </td><td>0.05555556</td></tr>\n",
       "\t<tr><td>O</td><td>attack</td><td>0.06451613</td></tr>\n",
       "\t<tr><td>O</td><td>other </td><td>0.18750000</td></tr>\n",
       "\t<tr><td>W</td><td>attack</td><td>0.03585271</td></tr>\n",
       "\t<tr><td>W</td><td>other </td><td>0.07142857</td></tr>\n",
       "</tbody>\n",
       "</table>\n"
      ],
      "text/latex": [
       "A grouped\\_df: 12 × 3\n",
       "\\begin{tabular}{lll}\n",
       " race & threat\\_level & p\\\\\n",
       " <chr> & <chr> & <dbl>\\\\\n",
       "\\hline\n",
       "\t A & attack & 0.06779661\\\\\n",
       "\t A & other  & 0.08163265\\\\\n",
       "\t B & attack & 0.03877367\\\\\n",
       "\t B & other  & 0.08299595\\\\\n",
       "\t H & attack & 0.04334365\\\\\n",
       "\t H & other  & 0.06511628\\\\\n",
       "\t N & attack & 0.05454545\\\\\n",
       "\t N & other  & 0.05555556\\\\\n",
       "\t O & attack & 0.06451613\\\\\n",
       "\t O & other  & 0.18750000\\\\\n",
       "\t W & attack & 0.03585271\\\\\n",
       "\t W & other  & 0.07142857\\\\\n",
       "\\end{tabular}\n"
      ],
      "text/markdown": [
       "\n",
       "A grouped_df: 12 × 3\n",
       "\n",
       "| race &lt;chr&gt; | threat_level &lt;chr&gt; | p &lt;dbl&gt; |\n",
       "|---|---|---|\n",
       "| A | attack | 0.06779661 |\n",
       "| A | other  | 0.08163265 |\n",
       "| B | attack | 0.03877367 |\n",
       "| B | other  | 0.08299595 |\n",
       "| H | attack | 0.04334365 |\n",
       "| H | other  | 0.06511628 |\n",
       "| N | attack | 0.05454545 |\n",
       "| N | other  | 0.05555556 |\n",
       "| O | attack | 0.06451613 |\n",
       "| O | other  | 0.18750000 |\n",
       "| W | attack | 0.03585271 |\n",
       "| W | other  | 0.07142857 |\n",
       "\n"
      ],
      "text/plain": [
       "   race threat_level p         \n",
       "1  A    attack       0.06779661\n",
       "2  A    other        0.08163265\n",
       "3  B    attack       0.03877367\n",
       "4  B    other        0.08299595\n",
       "5  H    attack       0.04334365\n",
       "6  H    other        0.06511628\n",
       "7  N    attack       0.05454545\n",
       "8  N    other        0.05555556\n",
       "9  O    attack       0.06451613\n",
       "10 O    other        0.18750000\n",
       "11 W    attack       0.03585271\n",
       "12 W    other        0.07142857"
      ]
     },
     "metadata": {},
     "output_type": "display_data"
    }
   ],
   "source": [
    "ShotAndTasedNums <- ShootingPop %>% \n",
    "    group_by(race, threat_level) %>% \n",
    "    summarise(p = sum(manner_of_death == 'shot and Tasered')/n())\n",
    "\n",
    "ShotAndTasedNums"
   ]
  },
  {
   "cell_type": "code",
   "execution_count": null,
   "id": "75d581ba-5e98-4dca-b59e-8f0ac4b8b89a",
   "metadata": {},
   "outputs": [],
   "source": []
  }
 ],
 "metadata": {
  "kernelspec": {
   "display_name": "R",
   "language": "R",
   "name": "ir"
  },
  "language_info": {
   "codemirror_mode": "r",
   "file_extension": ".r",
   "mimetype": "text/x-r-source",
   "name": "R",
   "pygments_lexer": "r",
   "version": "4.0.5"
  }
 },
 "nbformat": 4,
 "nbformat_minor": 5
}
